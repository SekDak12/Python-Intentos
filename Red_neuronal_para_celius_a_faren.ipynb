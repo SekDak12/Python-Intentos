{
  "nbformat": 4,
  "nbformat_minor": 0,
  "metadata": {
    "colab": {
      "provenance": [],
      "authorship_tag": "ABX9TyNS4ngrXF9gq9ejyfzjzXl0",
      "include_colab_link": true
    },
    "kernelspec": {
      "name": "python3",
      "display_name": "Python 3"
    },
    "language_info": {
      "name": "python"
    },
    "accelerator": "TPU",
    "gpuClass": "standard"
  },
  "cells": [
    {
      "cell_type": "markdown",
      "metadata": {
        "id": "view-in-github",
        "colab_type": "text"
      },
      "source": [
        "<a href=\"https://colab.research.google.com/github/SekDak12/Python-Intentos/blob/main/Red_neuronal_para_celius_a_faren.ipynb\" target=\"_parent\"><img src=\"https://colab.research.google.com/assets/colab-badge.svg\" alt=\"Open In Colab\"/></a>"
      ]
    },
    {
      "cell_type": "code",
      "execution_count": null,
      "metadata": {
        "id": "v2qpL_JNunXz"
      },
      "outputs": [],
      "source": [
        "import tensorflow as tf\n",
        "import numpy as np"
      ]
    },
    {
      "cell_type": "code",
      "source": [
        "celsius= np.array([1.95,7.69,7.93,4.09,8.63,8.31,4.59,8.51,1.04,6.01,0.17,9.5 ,8.24,8.34,\n",
        " 2.34,5.82,8.27,9.52,6.86,3.24,8.43,4.32,8.33,5.54,9.36,9.12,3.53,9.03,\n",
        " 4.39,4.95,6.62,9.01,7.85,9.43,9.86,4.35,0.69,6.15,8.51,2.67,3.23,0.67,\n",
        " 1.72,0.55,6.17,8.72,5.39,2.33,4.8 ,5.79,9.89,3.55,1.75,3.86,4.49,7.79,\n",
        " 8.48,2.01,2.79,5.29,0.79,0.18,4.73,5.47,4.59,5.45,8.44,8.24,9.73,0.37,\n",
        " 4.  ,0.76,1.95,6.45,9.79,4.15,4.51,2.6 ,9.21,4.49,7.61,5.96,9.4 ,5.38,\n",
        " 3.71,2.48,9.85,4.58,9.94,7.9 ,4.51,3.07,1.96,3.43,5.51,4.12,2.85,5.63,\n",
        " 9.58,5.95], dtype=float)\n",
        "farenheit=np.array([19.53,76.86,79.33,40.86,86.29,83.08,45.94,85.05,10.41,60.14, 1.69,95.05,\n",
        " 82.4 ,83.36,23.41,58.24,82.68,95.2 ,68.58,32.45,84.34,43.25,83.26,55.43,\n",
        " 93.6 ,91.22,35.31,90.32,43.91,49.46,66.16,90.1 ,78.53,94.3 ,98.55,43.52,\n",
        "  6.89,61.47,85.13,26.67,32.28, 6.73,17.17, 5.54,61.71,87.15,53.87,23.27,\n",
        " 48.01,57.86,98.92,35.55,17.47,38.58,44.86,77.9 ,84.77,20.13,27.85,52.94,\n",
        "  7.92, 1.81,47.28,54.7 ,45.88,54.49,84.37,82.43,97.28, 3.75,40.04, 7.61,\n",
        " 19.46,64.46,97.88,41.49,45.06,25.99,92.12,44.89,76.05,59.62,94.02,53.83,\n",
        " 37.1 ,24.84,98.52,45.78,99.41,79.02,45.07,30.67,19.65,34.33,55.12,41.23,\n",
        " 28.53,56.34,95.84,59.5 ], dtype=float)"
      ],
      "metadata": {
        "id": "pu6-kidwu5Gr"
      },
      "execution_count": null,
      "outputs": []
    },
    {
      "cell_type": "code",
      "source": [
        "#red neuronal de freamwork KEDAS ahorrando lienas de codigo\n",
        "\n",
        "##capa = tf.keras.layers.Dense(units=1, input_shape=[1])\n",
        "##modelo= tf.keras.Sequential([capa])\n",
        "\n",
        "oculta1 = tf.keras.layers.Dense(units=3, input_shape=[1])\n",
        "oculta2 = tf.keras.layers.Dense(units=3)\n",
        "salida = tf.keras.layers.Dense(units=1)\n",
        "modelo = tf.keras.Sequential([oculta1, oculta2, salida])"
      ],
      "metadata": {
        "id": "OOjfELwSvXw_"
      },
      "execution_count": null,
      "outputs": []
    },
    {
      "cell_type": "code",
      "source": [
        "modelo.compile(\n",
        "    optimizer=tf.keras.optimizers.Adam(0.1),\n",
        "    loss='mean_squared_error'\n",
        ")"
      ],
      "metadata": {
        "id": "souvMB6awEIv"
      },
      "execution_count": null,
      "outputs": []
    },
    {
      "cell_type": "code",
      "source": [
        "print('Comenzando')\n",
        "historial= modelo.fit(celsius, farenheit,epochs=500, verbose=False)\n",
        "print(\"Modelo  \")"
      ],
      "metadata": {
        "colab": {
          "base_uri": "https://localhost:8080/"
        },
        "id": "DzSDhWRxwVti",
        "outputId": "d55ec9e5-827f-4d54-92c5-1d2c5efde714"
      },
      "execution_count": null,
      "outputs": [
        {
          "output_type": "stream",
          "name": "stdout",
          "text": [
            "Comenzando\n",
            "Modelo  \n"
          ]
        }
      ]
    },
    {
      "cell_type": "code",
      "source": [
        "import matplotlib.pyplot as plt\n",
        "plt.xlabel(\"Epoca\")\n",
        "plt.ylabel(\"Magnitud de perdida\")\n",
        "plt.plot(historial.history[\"loss\"])"
      ],
      "metadata": {
        "colab": {
          "base_uri": "https://localhost:8080/",
          "height": 297
        },
        "id": "rAXn0N5mvqA8",
        "outputId": "074c70c4-05ec-4823-a975-136e9bbf930a"
      },
      "execution_count": null,
      "outputs": [
        {
          "output_type": "execute_result",
          "data": {
            "text/plain": [
              "[<matplotlib.lines.Line2D at 0x7f6d3fff29a0>]"
            ]
          },
          "metadata": {},
          "execution_count": 8
        },
        {
          "output_type": "display_data",
          "data": {
            "text/plain": [
              "<Figure size 432x288 with 1 Axes>"
            ],
            "image/png": "[encoded data removed]"
          },
          "metadata": {
            "needs_background": "light"
          }
        }
      ]
    },
    {
      "cell_type": "code",
      "source": [
        "print(\"hagamos predicciones\")\n",
        "resultado = modelo.predict([664.0])\n",
        "print(\"el resultado es\" + str(resultado) + \"hfahreneit\")"
      ],
      "metadata": {
        "colab": {
          "base_uri": "https://localhost:8080/"
        },
        "id": "AjciRiwM33b_",
        "outputId": "806c188b-b89d-4cba-8066-918bc806d858"
      },
      "execution_count": null,
      "outputs": [
        {
          "output_type": "stream",
          "name": "stdout",
          "text": [
            "hagamos predicciones\n",
            "1/1 [==============================] - 0s 129ms/step\n",
            "el resultado es[[6645.458]]hfahreneit\n"
          ]
        }
      ]
    },
    {
      "cell_type": "code",
      "source": [
        "#para ver el peso asignado por la red\n",
        "\n",
        "print(\" las variables asiganada por la reed son\")\n",
        "print(oculta1.get_weights())"
      ],
      "metadata": {
        "colab": {
          "base_uri": "https://localhost:8080/"
        },
        "id": "SFSAi0wM4Yy3",
        "outputId": "765fd63c-bd65-4b21-eab0-e07ecaefaa50"
      },
      "execution_count": null,
      "outputs": [
        {
          "output_type": "stream",
          "name": "stdout",
          "text": [
            " las variables asiganada por la reed son\n",
            "[array([[-0.04610672, -0.6890081 ,  0.1740154 ]], dtype=float32), array([ 1.5742586, -4.342095 , -2.8304834], dtype=float32)]\n"
          ]
        }
      ]
    },
    {
      "cell_type": "code",
      "source": [
        "import numpy as np\n",
        "\n",
        "# Generar datos aleatorios de corriente en amperios\n",
        "corriente = np.random.rand(100) * 10\n",
        "\n",
        "# Calcular voltajes utilizando la Ley de Ohm\n",
        "resistencia = 10 # ohmios\n",
        "voltaje = corriente * resistencia\n",
        "\n",
        "print(\"Datos de corriente:\")\n",
        "print(np.array2string(corriente, precision=4, separator=',', suppress_small=True))\n",
        "\n",
        "print(\"Datos de voltaje:\")\n",
        "print(np.array2string(voltaje, precision=4, separator=',', suppress_small=True))"
      ],
      "metadata": {
        "colab": {
          "base_uri": "https://localhost:8080/"
        },
        "id": "RNAJSuZF4fIN",
        "outputId": "f18cd88e-7ee1-4e6c-fe8d-973892996541"
      },
      "execution_count": null,
      "outputs": [
        {
          "output_type": "stream",
          "name": "stdout",
          "text": [
            "Datos de corriente:\n",
            "[8.5754,1.4581,0.4622,2.9893,7.7571,1.3439,1.5044,5.6938,1.4206,8.9532,\n",
            " 6.9911,2.121 ,6.565 ,2.6169,2.2641,2.7102,4.6945,2.2231,9.4416,8.0948,\n",
            " 6.3605,9.2773,8.0657,0.4016,7.5743,0.363 ,2.2965,9.1287,6.261 ,0.1041,\n",
            " 2.8882,4.6534,7.6233,6.3289,3.8264,6.8861,0.6902,4.2252,8.4659,2.5794,\n",
            " 0.6626,0.6182,8.6158,5.013 ,9.9188,2.8743,4.2935,5.2194,8.2027,9.6814,\n",
            " 5.243 ,3.3865,3.0021,7.2912,6.5671,3.5994,4.7509,5.5707,0.6743,2.2772,\n",
            " 7.3097,6.838 ,9.2624,5.544 ,9.3022,5.3174,0.9735,6.8653,8.3811,3.6248,\n",
            " 8.1788,6.4959,7.3983,5.6031,6.3221,5.3053,8.8444,4.1315,2.7254,7.0772,\n",
            " 8.5609,8.3134,8.5261,0.9553,4.8282,8.3213,6.7136,0.4229,5.2225,5.098 ,\n",
            " 7.1083,4.0829,8.9654,5.7755,2.1161,6.6481,7.3374,8.1188,8.8198,7.9278]\n",
            "Datos de voltaje:\n",
            "[85.7536,14.5814, 4.622 ,29.8933,77.5711,13.4392,15.0438,56.9377,14.2059,\n",
            " 89.5323,69.9109,21.2098,65.65  ,26.1695,22.641 ,27.1025,46.9453,22.2306,\n",
            " 94.4156,80.9477,63.6046,92.7733,80.6572, 4.0165,75.7429, 3.6297,22.9655,\n",
            " 91.2869,62.6097, 1.0412,28.8816,46.534 ,76.2332,63.2889,38.2645,68.8614,\n",
            "  6.9024,42.2518,84.6589,25.7943, 6.6257, 6.1818,86.1581,50.13  ,99.1876,\n",
            " 28.743 ,42.9351,52.1937,82.027 ,96.8141,52.4302,33.8649,30.0211,72.9121,\n",
            " 65.6714,35.9939,47.5089,55.7069, 6.7431,22.7723,73.0967,68.3801,92.6239,\n",
            " 55.4405,93.022 ,53.1742, 9.7345,68.6534,83.8112,36.2481,81.7884,64.9595,\n",
            " 73.9831,56.0309,63.2209,53.0534,88.4439,41.3145,27.2542,70.7718,85.6087,\n",
            " 83.1339,85.2608, 9.5533,48.2817,83.2128,67.1359, 4.2291,52.2251,50.9804,\n",
            " 71.0827,40.8293,89.6536,57.7552,21.1612,66.4806,73.3738,81.1878,88.1985,\n",
            " 79.2782]\n"
          ]
        }
      ]
    }
  ]
}